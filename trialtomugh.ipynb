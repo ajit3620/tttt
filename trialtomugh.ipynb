{
 "cells": [
  {
   "cell_type": "code",
   "execution_count": 5,
   "metadata": {},
   "outputs": [],
   "source": [
    "import numpy as np\n",
    "import pandas as pd"
   ]
  },
  {
   "cell_type": "code",
   "execution_count": 6,
   "metadata": {},
   "outputs": [
    {
     "name": "stdout",
     "output_type": "stream",
     "text": [
      "           yearID teamID lgID    salary\n",
      "playerID                               \n",
      "bedrost01    1985    ATL   NL    550000\n",
      "benedbr01    1985    ATL   NL    545000\n",
      "campri01     1985    ATL   NL    633333\n",
      "ceronri01    1985    ATL   NL    625000\n",
      "chambch01    1985    ATL   NL    800000\n",
      "...           ...    ...  ...       ...\n",
      "treinbl01    2015    WAS   NL    512800\n",
      "ugglada01    2015    WAS   NL    507500\n",
      "werthja01    2015    WAS   NL  21000000\n",
      "zimmejo02    2015    WAS   NL  16500000\n",
      "zimmery01    2015    WAS   NL  14000000\n",
      "\n",
      "[25574 rows x 4 columns]\n"
     ]
    }
   ],
   "source": [
    "salary_data = pd.read_csv('C:/Users/AJIT/Downloads/Salaries.csv', index_col='playerID', header=0, skiprows=[1])\n",
    "salary_data\n",
    "print(salary_data)"
   ]
  }
 ],
 "metadata": {
  "kernelspec": {
   "display_name": "Python 3",
   "language": "python",
   "name": "python3"
  },
  "language_info": {
   "codemirror_mode": {
    "name": "ipython",
    "version": 3
   },
   "file_extension": ".py",
   "mimetype": "text/x-python",
   "name": "python",
   "nbconvert_exporter": "python",
   "pygments_lexer": "ipython3",
   "version": "3.8.5"
  }
 },
 "nbformat": 4,
 "nbformat_minor": 4
}
